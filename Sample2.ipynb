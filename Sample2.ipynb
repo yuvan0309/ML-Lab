{
 "cells": [
  {
   "cell_type": "code",
   "execution_count": 51,
   "id": "17505b2d-c91f-4d81-a2a0-11af560c38c1",
   "metadata": {},
   "outputs": [],
   "source": [
    "import pandas as pd\n",
    "import numpy as np\n",
    "import matplotlib.pyplot as plt"
   ]
  },
  {
   "cell_type": "code",
   "execution_count": 10,
   "id": "cdf60942-53b3-4bc2-b670-6925c76aa72e",
   "metadata": {},
   "outputs": [
    {
     "name": "stdout",
     "output_type": "stream",
     "text": [
      "   id    first       last  gender  marks  selected\n",
      "0   1    Leone    Debrick  Female     50      True\n",
      "1   2   Romola  Phinnessy  Female     60     False\n",
      "2   3     Geri      Prium    Male     65     False\n",
      "3   4    Sandy   Doveston  Female     95     False\n",
      "4   5  Jacenta     Jansik  Female     31      True\n"
     ]
    }
   ],
   "source": [
    "df = pd.read_csv(\"/home/yuvan/Documents/ML Lab/data1.csv\")\n",
    "print(df.head())"
   ]
  },
  {
   "cell_type": "code",
   "execution_count": 18,
   "id": "b1f2e727-a9a0-49e0-af3f-34ed4ce7310e",
   "metadata": {},
   "outputs": [
    {
     "name": "stdout",
     "output_type": "stream",
     "text": [
      "1    60\n",
      "2    65\n",
      "3    95\n",
      "Name: marks, dtype: int64\n",
      "0    1\n",
      "1    2\n",
      "2    3\n",
      "3    4\n",
      "4    5\n",
      "Name: id, dtype: int64\n"
     ]
    }
   ],
   "source": [
    "print(df.marks[1:4])\n",
    "print(df.id)"
   ]
  },
  {
   "cell_type": "code",
   "execution_count": 27,
   "id": "32fe6c19-5cc8-487b-bdff-6ed0ccac62f9",
   "metadata": {},
   "outputs": [
    {
     "name": "stdout",
     "output_type": "stream",
     "text": [
      "   id  selected\n",
      "0   1      True\n",
      "1   2     False\n",
      "2   3     False\n",
      "3   4     False\n",
      "4   5      True\n"
     ]
    }
   ],
   "source": [
    "print(df[['id','selected']])"
   ]
  },
  {
   "cell_type": "code",
   "execution_count": 23,
   "id": "66d88506-2aa7-43e0-9668-aa2aa3f5a461",
   "metadata": {},
   "outputs": [
    {
     "name": "stdout",
     "output_type": "stream",
     "text": [
      "   id   first       last  gender  marks  selected\n",
      "0   1   Leone    Debrick  Female     50      True\n",
      "1   2  Romola  Phinnessy  Female     60     False\n",
      "2   3    Geri      Prium    Male     65     False\n",
      "3   4   Sandy   Doveston  Female     95     False\n"
     ]
    }
   ],
   "source": [
    "print(df[0:4])"
   ]
  },
  {
   "cell_type": "code",
   "execution_count": 28,
   "id": "0e634915-3557-4630-8257-e190d92b58c3",
   "metadata": {},
   "outputs": [
    {
     "name": "stdout",
     "output_type": "stream",
     "text": [
      "   first     last\n",
      "0  Leone  Debrick\n"
     ]
    }
   ],
   "source": [
    "print(df.iloc[0:1,1:3])"
   ]
  },
  {
   "cell_type": "code",
   "execution_count": 30,
   "id": "47a80303-1e91-4389-bc45-4f2ff1f9e249",
   "metadata": {},
   "outputs": [
    {
     "name": "stdout",
     "output_type": "stream",
     "text": [
      "   id   first  marks\n",
      "0   1   Leone     50\n",
      "1   2  Romola     60\n",
      "2   3    Geri     65\n",
      "3   4   Sandy     95\n"
     ]
    }
   ],
   "source": [
    "print(df.loc[0:3,['id','first','marks']])"
   ]
  },
  {
   "cell_type": "code",
   "execution_count": 38,
   "id": "7765b397-83fe-45ff-8020-676d4d6340fd",
   "metadata": {},
   "outputs": [
    {
     "name": "stdout",
     "output_type": "stream",
     "text": [
      "60.2\n",
      "23.402991261802413\n",
      "547.7\n",
      "301\n"
     ]
    }
   ],
   "source": [
    "print(df['marks'].mean())\n",
    "print(df['marks'].std())\n",
    "print(df['marks'].var())\n",
    "print(df['marks'].sum())"
   ]
  },
  {
   "cell_type": "code",
   "execution_count": 40,
   "id": "8df1f088-e56f-47b4-99c8-14da2c0de859",
   "metadata": {},
   "outputs": [
    {
     "name": "stdout",
     "output_type": "stream",
     "text": [
      "31\n",
      "95\n",
      "31\n",
      "60.0\n",
      "5\n"
     ]
    }
   ],
   "source": [
    "print(df['marks'].mode()[0])\n",
    "print(df['marks'].max())\n",
    "print(df['marks'].min())\n",
    "print(df['marks'].median())\n",
    "print(df['marks'].count())"
   ]
  },
  {
   "cell_type": "code",
   "execution_count": 49,
   "id": "bd373760-5ac1-45a9-9aa5-30fb03891c4c",
   "metadata": {},
   "outputs": [
    {
     "name": "stdout",
     "output_type": "stream",
     "text": [
      "(5, 6)\n",
      "             id      marks\n",
      "count  5.000000   5.000000\n",
      "mean   3.000000  60.200000\n",
      "std    1.581139  23.402991\n",
      "min    1.000000  31.000000\n",
      "25%    2.000000  50.000000\n",
      "50%    3.000000  60.000000\n",
      "75%    4.000000  65.000000\n",
      "max    5.000000  95.000000\n",
      "<bound method DataFrame.info of    id    first       last  gender  marks  selected\n",
      "0   1    Leone    Debrick  Female     50      True\n",
      "1   2   Romola  Phinnessy  Female     60     False\n",
      "2   3     Geri      Prium    Male     65     False\n",
      "3   4    Sandy   Doveston  Female     95     False\n",
      "4   5  Jacenta     Jansik  Female     31      True>\n",
      "   id    first      last  gender  marks  selected\n",
      "3   4    Sandy  Doveston  Female     95     False\n",
      "4   5  Jacenta    Jansik  Female     31      True\n"
     ]
    }
   ],
   "source": [
    "print(df.shape)\n",
    "print(df.describe())\n",
    "print(df.info)\n",
    "print(df.tail(2))"
   ]
  },
  {
   "cell_type": "code",
   "execution_count": 48,
   "id": "02ae9388-e23d-446e-98f3-1d69c85e182c",
   "metadata": {},
   "outputs": [
    {
     "name": "stdout",
     "output_type": "stream",
     "text": [
      "      id  first   last  gender  marks  selected\n",
      "0  False  False  False   False  False     False\n",
      "1  False  False  False   False  False     False\n",
      "2  False  False  False   False  False     False\n",
      "3  False  False  False   False  False     False\n",
      "4  False  False  False   False  False     False\n",
      "     id  first  last  gender  marks  selected\n",
      "0  True   True  True    True   True      True\n",
      "1  True   True  True    True   True      True\n",
      "2  True   True  True    True   True      True\n",
      "3  True   True  True    True   True      True\n",
      "4  True   True  True    True   True      True\n"
     ]
    }
   ],
   "source": [
    "print(df.isnull())\n",
    "print(df.notnull())"
   ]
  },
  {
   "cell_type": "code",
   "execution_count": 50,
   "id": "04b4abdb-110a-42e9-8867-29f25f938c1b",
   "metadata": {},
   "outputs": [
    {
     "name": "stdout",
     "output_type": "stream",
     "text": [
      "Index(['id', 'marks'], dtype='object')\n"
     ]
    }
   ],
   "source": [
    "ifeatures=df.select_dtypes(include=[np.number]).columns\n",
    "print(ifeatures)"
   ]
  },
  {
   "cell_type": "code",
   "execution_count": 52,
   "id": "e3af8e3d-fd67-4868-9f4d-7131f2d9d470",
   "metadata": {},
   "outputs": [
    {
     "data": {
      "image/png": "[encoded data removed]",
      "text/plain": [
       "<Figure size 640x480 with 1 Axes>"
      ]
     },
     "metadata": {},
     "output_type": "display_data"
    }
   ],
   "source": [
    "x = df['id']\n",
    "y = df['marks']\n",
    "plt.plot(x,y,color='grey')\n",
    "plt.title(\"IDK\")\n",
    "plt.show()"
   ]
  },
  {
   "cell_type": "code",
   "execution_count": null,
   "id": "f9036199-0eed-402f-88a2-6d17e7a44d21",
   "metadata": {},
   "outputs": [],
   "source": []
  }
 ],
 "metadata": {
  "kernelspec": {
   "display_name": ".venv",
   "language": "python",
   "name": "python3"
  },
  "language_info": {
   "codemirror_mode": {
    "name": "ipython",
    "version": 3
   },
   "file_extension": ".py",
   "mimetype": "text/x-python",
   "name": "python",
   "nbconvert_exporter": "python",
   "pygments_lexer": "ipython3",
   "version": "3.12.9"
  }
 },
 "nbformat": 4,
 "nbformat_minor": 5
}
