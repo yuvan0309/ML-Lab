{
 "cells": [
  {
   "cell_type": "code",
   "execution_count": 2,
   "id": "8d2c53b0",
   "metadata": {},
   "outputs": [],
   "source": [
    "import numpy as np\n",
    "import pandas as pd\n",
    "from sklearn.neighbors import KNeighborsClassifier\n",
    "from sklearn.metrics import accuracy_score\n",
    "import warnings\n",
    "warnings.filterwarnings(\"ignore\")"
   ]
  },
  {
   "cell_type": "code",
   "execution_count": 6,
   "id": "c93818b9",
   "metadata": {},
   "outputs": [
    {
     "name": "stdout",
     "output_type": "stream",
     "text": [
      "Accuracy for k=1: 98.00\n",
      "Accuracy for k=2: 98.00\n",
      "Accuracy for k=3: 98.00\n",
      "Accuracy for k=4: 98.00\n",
      "Accuracy for k=5: 98.00\n",
      "Accuracy for k=20: 100.00\n",
      "Accuracy for k=30: 98.00\n"
     ]
    }
   ],
   "source": [
    "\n",
    "values=np.random.rand(100)\n",
    "labels=[]\n",
    "for i in values[:50]:\n",
    "    if i<0.5:\n",
    "        labels.append(\"Class 1\")\n",
    "    else:\n",
    "        labels.append(\"Class 2\")\n",
    "labels+=[None]*50\n",
    "data={\"point\":[f\"x{i+1}\" for i in range(100)],\n",
    "      \"value\":values,\n",
    "      \"label\":labels}\n",
    "df=pd.DataFrame(data)\n",
    "labeled_df=df[df[\"label\"].notna()]\n",
    "\n",
    "X_train=labeled_df[[\"value\"]]\n",
    "y_train=labeled_df[\"label\"]\n",
    "\n",
    "k_vals=[1,2,3,4,5,20,30]\n",
    "accuracy={}\n",
    "\n",
    "true_labels=[\"Class 1\" if i<0.5 else \"Class 2\" for i in values[50:]]\n",
    "\n",
    "unlabeled_df = df[50:].copy()\n",
    "\n",
    "for k in k_vals:\n",
    "    knn=KNeighborsClassifier(n_neighbors=k)\n",
    "    knn.fit(X_train, y_train)\n",
    "    pred=knn.predict(df[[\"value\"]][50:])\n",
    "    accuracy[k] = accuracy_score(true_labels, pred) * 100\n",
    "    print(f\"Accuracy for k={k}: {accuracy[k]:.2f}\")\n",
    "    unlabeled_df[f\"label_k{k}\"]=pred"
   ]
  }
 ],
 "metadata": {
  "kernelspec": {
   "display_name": "Python 3",
   "language": "python",
   "name": "python3"
  },
  "language_info": {
   "codemirror_mode": {
    "name": "ipython",
    "version": 3
   },
   "file_extension": ".py",
   "mimetype": "text/x-python",
   "name": "python",
   "nbconvert_exporter": "python",
   "pygments_lexer": "ipython3",
   "version": "3.10.12"
  }
 },
 "nbformat": 4,
 "nbformat_minor": 5
}
