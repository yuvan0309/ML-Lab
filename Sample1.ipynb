{
 "cells": [
  {
   "cell_type": "code",
   "execution_count": 1,
   "id": "47a27a8d-b35f-4504-aa67-feb703606c76",
   "metadata": {},
   "outputs": [
    {
     "name": "stdout",
     "output_type": "stream",
     "text": [
      "hallo world !\n"
     ]
    }
   ],
   "source": [
    "print (\"hallo world !\")"
   ]
  },
  {
   "cell_type": "code",
   "execution_count": 11,
   "id": "35834c79-89a8-406e-8924-177cb647cd58",
   "metadata": {},
   "outputs": [
    {
     "name": "stdout",
     "output_type": "stream",
     "text": [
      "12\n"
     ]
    }
   ],
   "source": [
    "a=2\n",
    "b=10\n",
    "print(a+b)"
   ]
  },
  {
   "cell_type": "code",
   "execution_count": 10,
   "id": "7d6a4416-5cd7-47f0-af95-3944223845c5",
   "metadata": {},
   "outputs": [
    {
     "name": "stdin",
     "output_type": "stream",
     "text": [
      "Enter a number : 3\n",
      "Enter b number : 4\n"
     ]
    },
    {
     "name": "stdout",
     "output_type": "stream",
     "text": [
      "7\n"
     ]
    }
   ],
   "source": [
    "#first \n",
    "a=int (input (\"Enter a number :\"))\n",
    "b= int (input (\"Enter b number :\"))\n",
    "print(a+b)"
   ]
  },
  {
   "cell_type": "code",
   "execution_count": 12,
   "id": "5d1cd60b-c3bc-4b42-a01a-4c69da26e49a",
   "metadata": {},
   "outputs": [
    {
     "name": "stdin",
     "output_type": "stream",
     "text": [
      "Enter number : 1\n",
      "Enter number : 2\n",
      "Enter number : 3\n",
      "Enter number : 4\n",
      "Enter number : 5\n",
      "Enter number : 6\n",
      "Enter number : 7\n",
      "Enter number : 8\n",
      "Enter number : 9\n",
      "Enter number : 1\n"
     ]
    },
    {
     "name": "stdout",
     "output_type": "stream",
     "text": [
      "46\n"
     ]
    }
   ],
   "source": [
    "sum =0\n",
    "for i in range(0,10):\n",
    "    sum+=int(input(\"Enter number :\"))\n",
    "print(sum)"
   ]
  },
  {
   "cell_type": "code",
   "execution_count": 8,
   "id": "eeaa8005-35cf-4e2a-bb69-a1550570b973",
   "metadata": {},
   "outputs": [
    {
     "name": "stdin",
     "output_type": "stream",
     "text": [
      "Enter a number : 2\n",
      "Enter b number : 3\n"
     ]
    },
    {
     "name": "stdout",
     "output_type": "stream",
     "text": [
      "5\n"
     ]
    }
   ],
   "source": [
    "def sum(a,b):\n",
    "    print (a+b)\n",
    "a=int (input (\"Enter a number :\"))\n",
    "b= int (input (\"Enter b number :\"))\n",
    "sum(a,b)"
   ]
  },
  {
   "cell_type": "code",
   "execution_count": 16,
   "id": "5fcebcf7-8faf-43b4-a324-ce0eedfd8f99",
   "metadata": {},
   "outputs": [
    {
     "data": {
      "text/plain": [
       "120"
      ]
     },
     "execution_count": 16,
     "metadata": {},
     "output_type": "execute_result"
    }
   ],
   "source": [
    "def fact(n):\n",
    "    if n==0:\n",
    "        return 1\n",
    "    else:\n",
    "        return n*fact(n-1)\n",
    "fact(5)"
   ]
  },
  {
   "cell_type": "code",
   "execution_count": 17,
   "id": "dfc0573d-b492-443e-ad4e-cd048dc65460",
   "metadata": {},
   "outputs": [
    {
     "name": "stdout",
     "output_type": "stream",
     "text": [
      "ottawa\n",
      "{'germany': 'berlin', 'canada': 'ottawa', 'england': 'london', 'italy': 'rome'}\n",
      "{'canada': 'ottawa', 'england': 'london', 'italy': 'rome'}\n"
     ]
    }
   ],
   "source": [
    "mkdir ={'germany':'berlin','canada':'ottawa','england':'london'}\n",
    "\n",
    "print(mkdir['canada'])\n",
    "\n",
    "mkdir['italy']=\"rome\"\n",
    "print(mkdir)\n",
    "\n",
    "del mkdir['germany']\n",
    "print(mkdir)"
   ]
  },
  {
   "cell_type": "code",
   "execution_count": 26,
   "id": "daf992d5-e6a1-4b24-a0a6-04f6d5ffa5df",
   "metadata": {},
   "outputs": [
    {
     "name": "stdout",
     "output_type": "stream",
     "text": [
      "-24960\n",
      "[1, 2]\n",
      "[10, 12, 13]\n",
      "[-8, 10]\n"
     ]
    }
   ],
   "source": [
    "mul=1\n",
    "li=[1,2,-8,10,12,13]\n",
    "for i in li:\n",
    "    mul*=i\n",
    "\n",
    "print(mul)\n",
    "\n",
    "print(li[0:2])\n",
    "print(li[-3:])\n",
    "print(li[2:4])"
   ]
  },
  {
   "cell_type": "code",
   "execution_count": 21,
   "id": "48dec505-5b2f-43c0-bc11-ab51d1a57a57",
   "metadata": {},
   "outputs": [
    {
     "name": "stdout",
     "output_type": "stream",
     "text": [
      "C is greatest\n"
     ]
    }
   ],
   "source": [
    "def lar3(a,b,c):\n",
    "    if a>b:\n",
    "        if a>c:\n",
    "            print(\"A is greatest\")\n",
    "    elif b>c:\n",
    "        print(\"B is greatest\")\n",
    "    else :\n",
    "        print(\"C is greatest\")\n",
    "\n",
    "lar3(2,3,5)"
   ]
  },
  {
   "cell_type": "code",
   "execution_count": null,
   "id": "17d57fe4-1d7c-48ac-a0f9-35fd178b5752",
   "metadata": {},
   "outputs": [],
   "source": []
  }
 ],
 "metadata": {
  "kernelspec": {
   "display_name": "Python 3 (ipykernel)",
   "language": "python",
   "name": "python3"
  },
  "language_info": {
   "codemirror_mode": {
    "name": "ipython",
    "version": 3
   },
   "file_extension": ".py",
   "mimetype": "text/x-python",
   "name": "python",
   "nbconvert_exporter": "python",
   "pygments_lexer": "ipython3",
   "version": "3.10.12"
  }
 },
 "nbformat": 4,
 "nbformat_minor": 5
}
