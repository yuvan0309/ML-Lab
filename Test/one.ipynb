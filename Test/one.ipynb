{
 "cells": [
  {
   "cell_type": "code",
   "execution_count": null,
   "metadata": {},
   "outputs": [
    {
     "ename": "TabError",
     "evalue": "inconsistent use of tabs and spaces in indentation (passive_env_checker.py, line 233)",
     "output_type": "error",
     "traceback": [
      "Traceback \u001b[36m(most recent call last)\u001b[39m:\n",
      "  File \u001b[92m~/Documents/ML Lab/.venv/lib/python3.12/site-packages/IPython/core/interactiveshell.py:3546\u001b[39m in \u001b[95mrun_code\u001b[39m\n    exec(code_obj, self.user_global_ns, self.user_ns)\n",
      "  Cell \u001b[92mIn[1]\u001b[39m\u001b[92m, line 2\u001b[39m\n    import gym\n",
      "  File \u001b[92m~/Documents/ML Lab/.venv/lib/python3.12/site-packages/gym/__init__.py:15\u001b[39m\n    from gym.envs import make, spec, register\n",
      "  File \u001b[92m~/Documents/ML Lab/.venv/lib/python3.12/site-packages/gym/envs/__init__.py:1\u001b[39m\n    from gym.envs.registration import load_env_plugins as _load_env_plugins\n",
      "  File \u001b[92m~/Documents/ML Lab/.venv/lib/python3.12/site-packages/gym/envs/registration.py:32\u001b[39m\n    from gym.wrappers.env_checker import PassiveEnvChecker\n",
      "\u001b[36m  \u001b[39m\u001b[36mFile \u001b[39m\u001b[32m~/Documents/ML Lab/.venv/lib/python3.12/site-packages/gym/wrappers/env_checker.py:4\u001b[39m\n\u001b[31m    \u001b[39m\u001b[31mfrom gym.utils.passive_env_checker import (\u001b[39m\n",
      "  \u001b[36mFile \u001b[39m\u001b[32m~/Documents/ML Lab/.venv/lib/python3.12/site-packages/gym/utils/passive_env_checker.py:233\u001b[39m\n\u001b[31m    \u001b[39m\u001b[31mif not isinstance(terminated, bool):\u001b[39m\n    ^\n\u001b[31mTabError\u001b[39m\u001b[31m:\u001b[39m inconsistent use of tabs and spaces in indentation\n"
     ]
    }
   ],
   "source": [
    "import numpy as np\n",
    "import gym\n",
    "\n",
    "# Create the environment\n",
    "env = gym.make(\"Taxi-v3\")\n",
    "\n",
    "# Get the number of states and actions\n",
    "state_size = env.observation_space.n\n",
    "action_size = env.action_space.n\n",
    "\n",
    "# Initialize the Q-table with zeros\n",
    "Q_table = np.zeros((state_size, action_size))\n",
    "\n",
    "# Hyperparameters\n",
    "alpha = 0.1   # Learning rate\n",
    "gamma = 0.9   # Discount factor\n",
    "epsilon = 1.0  # Exploration rate\n",
    "epsilon_decay = 0.995\n",
    "min_epsilon = 0.01\n",
    "episodes = 1000\n",
    "\n",
    "# Training loop\n",
    "for episode in range(episodes):\n",
    "    state = env.reset()[0]  # Reset environment\n",
    "    done = False\n",
    "    \n",
    "    while not done:\n",
    "        # Choose an action (epsilon-greedy)\n",
    "        if np.random.rand() < epsilon:\n",
    "            action = env.action_space.sample()  # Random action (explore)\n",
    "        else:\n",
    "            action = np.argmax(Q_table[state, :])  # Best known action (exploit)\n",
    "        \n",
    "        # Take action and get next state and reward\n",
    "        next_state, reward, done, _, _ = env.step(action)\n",
    "        \n",
    "        # Update Q-value using Bellman equation\n",
    "        Q_table[state, action] = Q_table[state, action] + alpha * (\n",
    "            reward + gamma * np.max(Q_table[next_state, :]) - Q_table[state, action]\n",
    "        )\n",
    "        \n",
    "        # Move to the next state\n",
    "        state = next_state\n",
    "\n",
    "    # Reduce exploration rate\n",
    "    epsilon = max(min_epsilon, epsilon * epsilon_decay)\n",
    "\n",
    "print(\"Training completed!\")\n",
    "\n",
    "# Test the trained agent\n",
    "state = env.reset()[0]\n",
    "done = False\n",
    "env.render()\n",
    "\n",
    "while not done:\n",
    "    action = np.argmax(Q_table[state, :])  # Choose best action\n",
    "    state, _, done, _, _ = env.step(action)\n",
    "    env.render()\n"
   ]
  },
  {
   "cell_type": "code",
   "execution_count": null,
   "metadata": {},
   "outputs": [],
   "source": []
  }
 ],
 "metadata": {
  "kernelspec": {
   "display_name": ".venv",
   "language": "python",
   "name": "python3"
  },
  "language_info": {
   "codemirror_mode": {
    "name": "ipython",
    "version": 3
   },
   "file_extension": ".py",
   "mimetype": "text/x-python",
   "name": "python",
   "nbconvert_exporter": "python",
   "pygments_lexer": "ipython3",
   "version": "3.12.9"
  }
 },
 "nbformat": 4,
 "nbformat_minor": 2
}
