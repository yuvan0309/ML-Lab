{
 "cells": [
  {
   "cell_type": "code",
   "execution_count": 2,
   "metadata": {},
   "outputs": [],
   "source": [
    "import pandas as pd\n",
    "import numpy as np\n",
    "import matplotlib.pyplot as plt\n",
    "import seaborn as sns"
   ]
  },
  {
   "cell_type": "code",
   "execution_count": 5,
   "metadata": {},
   "outputs": [
    {
     "data": {
      "text/html": [
       "<div>\n",
       "<style scoped>\n",
       "    .dataframe tbody tr th:only-of-type {\n",
       "        vertical-align: middle;\n",
       "    }\n",
       "\n",
       "    .dataframe tbody tr th {\n",
       "        vertical-align: top;\n",
       "    }\n",
       "\n",
       "    .dataframe thead th {\n",
       "        text-align: right;\n",
       "    }\n",
       "</style>\n",
       "<table border=\"1\" class=\"dataframe\">\n",
       "  <thead>\n",
       "    <tr style=\"text-align: right;\">\n",
       "      <th></th>\n",
       "      <th>CGPA</th>\n",
       "      <th>Interactiveness</th>\n",
       "      <th>Practical Knowledge</th>\n",
       "      <th>Communication</th>\n",
       "      <th>Logical Thinking</th>\n",
       "      <th>Intrest</th>\n",
       "      <th>Job Offer</th>\n",
       "    </tr>\n",
       "  </thead>\n",
       "  <tbody>\n",
       "    <tr>\n",
       "      <th>0</th>\n",
       "      <td>&gt;=9</td>\n",
       "      <td>Yes</td>\n",
       "      <td>Excellent</td>\n",
       "      <td>Good</td>\n",
       "      <td>Fast</td>\n",
       "      <td>Yes</td>\n",
       "      <td>Yes</td>\n",
       "    </tr>\n",
       "    <tr>\n",
       "      <th>1</th>\n",
       "      <td>&gt;=9</td>\n",
       "      <td>Yes</td>\n",
       "      <td>Good</td>\n",
       "      <td>Good</td>\n",
       "      <td>Fast</td>\n",
       "      <td>Yes</td>\n",
       "      <td>Yes</td>\n",
       "    </tr>\n",
       "    <tr>\n",
       "      <th>2</th>\n",
       "      <td>&gt;=8</td>\n",
       "      <td>No</td>\n",
       "      <td>Good</td>\n",
       "      <td>Good</td>\n",
       "      <td>Fast</td>\n",
       "      <td>No</td>\n",
       "      <td>No</td>\n",
       "    </tr>\n",
       "    <tr>\n",
       "      <th>3</th>\n",
       "      <td>&gt;=9</td>\n",
       "      <td>Yes</td>\n",
       "      <td>Good</td>\n",
       "      <td>Good</td>\n",
       "      <td>Slow</td>\n",
       "      <td>No</td>\n",
       "      <td>Yes</td>\n",
       "    </tr>\n",
       "  </tbody>\n",
       "</table>\n",
       "</div>"
      ],
      "text/plain": [
       "  CGPA Interactiveness Practical Knowledge Communication Logical Thinking  \\\n",
       "0  >=9             Yes           Excellent          Good             Fast   \n",
       "1  >=9             Yes                Good          Good             Fast   \n",
       "2  >=8              No                Good          Good             Fast   \n",
       "3  >=9             Yes                Good          Good             Slow   \n",
       "\n",
       "  Intrest  Job Offer  \n",
       "0      Yes       Yes  \n",
       "1      Yes       Yes  \n",
       "2       No        No  \n",
       "3       No       Yes  "
      ]
     },
     "execution_count": 5,
     "metadata": {},
     "output_type": "execute_result"
    }
   ],
   "source": [
    "df=pd.read_csv('/home/yuvan/Documents/Data sets/job_data.csv')\n",
    "df.head()"
   ]
  },
  {
   "cell_type": "code",
   "execution_count": 25,
   "metadata": {},
   "outputs": [
    {
     "name": "stdout",
     "output_type": "stream",
     "text": [
      "The final hypothesis is: ['>=9' 'Yes' '?' 'Good' '?' '?']\n"
     ]
    }
   ],
   "source": [
    "def find_s_algorithm(df):\n",
    "    hyp = None\n",
    "    for index, row in df.iterrows():\n",
    "        if row['Job Offer'] == 'Yes':\n",
    "            hyp = row[:-1].values\n",
    "            break\n",
    "\n",
    "    for index, row in df.iterrows():\n",
    "        if row['Job Offer'] == 'Yes':\n",
    "            for i in range(len(hyp)):\n",
    "                if hyp[i] != row.iloc[i]:\n",
    "                    hyp[i] = '?'\n",
    "\n",
    "    return hyp\n",
    "\n",
    "hyp = find_s_algorithm(df)\n",
    "print(\"The final hypothesis is:\", hyp)"
   ]
  },
  {
   "cell_type": "code",
   "execution_count": null,
   "metadata": {},
   "outputs": [],
   "source": []
  }
 ],
 "metadata": {
  "kernelspec": {
   "display_name": ".venv",
   "language": "python",
   "name": "python3"
  },
  "language_info": {
   "codemirror_mode": {
    "name": "ipython",
    "version": 3
   },
   "file_extension": ".py",
   "mimetype": "text/x-python",
   "name": "python",
   "nbconvert_exporter": "python",
   "pygments_lexer": "ipython3",
   "version": "3.12.9"
  }
 },
 "nbformat": 4,
 "nbformat_minor": 2
}
